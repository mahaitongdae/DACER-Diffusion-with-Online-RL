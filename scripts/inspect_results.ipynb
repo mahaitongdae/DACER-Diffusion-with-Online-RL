{
 "cells": [
  {
   "cell_type": "code",
   "execution_count": 1,
   "id": "75a2e10e-5bee-4713-92c4-b681dd95d937",
   "metadata": {},
   "outputs": [],
   "source": [
    "import relax\n",
    "from inspect_results import load_best_results\n",
    "import warnings\n",
    "warnings.filterwarnings(\"ignore\")"
   ]
  },
  {
   "cell_type": "code",
   "execution_count": 2,
   "id": "a8c6a24a-1223-4207-85cf-99c5ca02cd10",
   "metadata": {},
   "outputs": [
    {
     "name": "stdout",
     "output_type": "stream",
     "text": [
      "|    |       step |   avg_ret |   std_ret |   seed |\n",
      "|---:|-----------:|----------:|----------:|-------:|\n",
      "|  0 | 950000     |   11025.1 |   128.146 |    102 |\n",
      "|  1 |      1e+06 |   10896.8 |   140.431 |    103 |\n",
      "|  2 |      1e+06 |   10761.3 |   184.581 |    104 |\n",
      "|  3 |      1e+06 |   10742.7 |   182.412 |    101 |\n",
      "|  4 |      1e+06 |   10058.6 |   117.543 |    100 |\n",
      "10696.919197185929\n"
     ]
    }
   ],
   "source": [
    "pattern = r\".*qsm.*01-07.*qsm_lr_schedule$\"\n",
    "_ = load_best_results(pattern)"
   ]
  },
  {
   "cell_type": "code",
   "execution_count": 3,
   "id": "15a5bf84-0bde-4c3e-9ff5-2b441b989390",
   "metadata": {},
   "outputs": [
    {
     "name": "stdout",
     "output_type": "stream",
     "text": [
      "|    |       step |   avg_ret |   std_ret |   seed |\n",
      "|---:|-----------:|----------:|----------:|-------:|\n",
      "|  0 | 950000     |   11826.4 |  100.202  |    103 |\n",
      "|  1 |      1e+06 |   10741.4 |  127.866  |    104 |\n",
      "|  2 | 900000     |   12251.4 |  162.515  |    100 |\n",
      "|  3 |      1e+06 |   10479.9 |   89.0923 |    101 |\n",
      "|  4 | 950000     |   12212.6 |  110.896  |    102 |\n",
      "11502.343392249462\n"
     ]
    }
   ],
   "source": [
    "pattern = r\".*diffv2.*01-07.*diffv2_ema$\"\n",
    "_ = load_best_results(pattern)"
   ]
  },
  {
   "cell_type": "code",
   "execution_count": 4,
   "id": "2456a667-d53b-486d-8c0b-a1773ef9318f",
   "metadata": {},
   "outputs": [
    {
     "name": "stdout",
     "output_type": "stream",
     "text": [
      "|    |       step |   avg_ret |   std_ret |   seed |\n",
      "|---:|-----------:|----------:|----------:|-------:|\n",
      "|  0 |      1e+06 |   10413.5 |   132.637 |    101 |\n",
      "|  1 |      1e+06 |   13048.6 |   223.635 |    102 |\n",
      "|  2 | 800000     |   10950.1 |   184.7   |    103 |\n",
      "|  3 | 900000     |   11347.1 |   174.363 |    100 |\n",
      "|  4 | 900000     |   11986.4 |   271.927 |    104 |\n",
      "11549.139232832888\n"
     ]
    }
   ],
   "source": [
    "pattern = r\".*diffv2.*01-07.*diffv2_sampling_with_ema$\"\n",
    "_ = load_best_results(pattern)"
   ]
  }
 ],
 "metadata": {
  "kernelspec": {
   "display_name": "Python [conda env:.conda-relax]",
   "language": "python",
   "name": "conda-env-.conda-relax-py"
  },
  "language_info": {
   "codemirror_mode": {
    "name": "ipython",
    "version": 3
   },
   "file_extension": ".py",
   "mimetype": "text/x-python",
   "name": "python",
   "nbconvert_exporter": "python",
   "pygments_lexer": "ipython3",
   "version": "3.10.16"
  }
 },
 "nbformat": 4,
 "nbformat_minor": 5
}
